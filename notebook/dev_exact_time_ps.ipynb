{
 "cells": [
  {
   "cell_type": "code",
   "execution_count": 1,
   "metadata": {},
   "outputs": [],
   "source": [
    "# Import relevant modules\n",
    "import matplotlib\n",
    "import matplotlib.pyplot as plt\n",
    "import numpy as np\n",
    "from classy import Class\n",
    "import pybird\n",
    "from importlib import reload\n",
    "import os\n",
    "from scipy.interpolate import interp1d\n",
    "from copy import deepcopy\n",
    "from scipy.integrate import quad"
   ]
  },
  {
   "cell_type": "code",
   "execution_count": 2,
   "metadata": {},
   "outputs": [],
   "source": [
    "font = {'size': 14}\n",
    "axislabelfontsize='large'\n",
    "matplotlib.rc('font', **font)\n",
    "matplotlib.mathtext.rcParams['legend.fontsize']='medium'"
   ]
  },
  {
   "cell_type": "code",
   "execution_count": 3,
   "metadata": {},
   "outputs": [],
   "source": [
    "zpk = 0.57"
   ]
  },
  {
   "cell_type": "code",
   "execution_count": 4,
   "metadata": {},
   "outputs": [],
   "source": [
    "from scipy.optimize import fsolve\n",
    "\n",
    "def get_masses(sum_masses, hierarchy='NH'):\n",
    "    # a function returning the three masses given the Delta m^2, the total mass, and the hierarchy (e.g. 'IN' or 'IH')\n",
    "    # Values are in the latest PDG\n",
    "    # any string containing letter 'n' will be considered as refering to normal hierarchy\n",
    "    if 'n' in hierarchy.lower():\n",
    "        # Normal hierarchy massive neutrinos. Calculates the individual\n",
    "        # neutrino masses from M_tot_NH and deletes M_tot_NH\n",
    "        delta_m_squared_21 = 7.37e-5\n",
    "        delta_m_squared_31 = 2.56e-3\n",
    "        def m1_func(m1, M_tot):\n",
    "            return M_tot**2 - (m1 + np.sqrt(m1**2 + delta_m_squared_21) + np.sqrt(m1**2 + delta_m_squared_31))**2\n",
    "        m1, opt_output, success, output_message = fsolve(\n",
    "            m1_func, sum_masses/3., (sum_masses), full_output=True, xtol=1e-04, maxfev=500)\n",
    "        m1 = m1[0]\n",
    "        m2 = (delta_m_squared_21 + m1**2.)**0.5\n",
    "        m3 = (delta_m_squared_31 + m1**2.)**0.5\n",
    "        return m1, m2, m3\n",
    "    else:\n",
    "        return None"
   ]
  },
  {
   "cell_type": "code",
   "execution_count": 5,
   "metadata": {},
   "outputs": [],
   "source": [
    "def load_cosmo(basedir, chainname, skycut=1, nu=False):\n",
    "    bf = np.loadtxt(os.path.join(basedir, chainname, '%s.bestfit') % chainname)\n",
    "    if bf[2]>2.: bf[2] /= 100.\n",
    "    if nu: \n",
    "        cosmo = {'omega_b': bf[0], 'omega_cdm': bf[1], 'h': bf[2], 'ln10^{10}A_s': bf[3], 'n_s': bf[4], \n",
    "                    'N_ur': 0.00641, 'N_ncdm': 3, 'm_ncdm': r'%g, %g, %g' % get_masses(bf[5])}\n",
    "            \n",
    "        print (cosmo)\n",
    "    else: cosmo = {'omega_b': bf[0], 'omega_cdm': bf[1], 'h': bf[2], 'ln10^{10}A_s': bf[3], 'n_s': bf[4], }\n",
    "    if nu:\n",
    "        if skycut ==1: b1c2 = np.array([bf[6], bf[7]])\n",
    "        elif skycut ==2: b1c2 = np.array([bf[8], bf[9]])\n",
    "        elif skycut ==3: b1c2 = np.array([bf[10], bf[11]])\n",
    "        elif skycut ==4: b1c2 = np.array([bf[12], bf[13]])\n",
    "    else: b1c2 = np.array([bf[5], bf[6]])\n",
    "    return cosmo, b1c2"
   ]
  },
  {
   "cell_type": "code",
   "execution_count": 6,
   "metadata": {},
   "outputs": [
    {
     "name": "stdout",
     "output_type": "stream",
     "text": [
      "{'omega_b': 0.02218471, 'omega_cdm': 0.1314969, 'h': 0.6893984000000001, 'ln10^{10}A_s': 2.851813, 'n_s': 0.9010484, 'N_ur': 0.00641, 'N_ncdm': 3, 'm_ncdm': '0.0775797, 0.0780532, 0.0926208'}\n"
     ]
    }
   ],
   "source": [
    "cosmo, b1c2 = load_cosmo('/Users/pierre/Documents/github/montepython_public-3.3/wcdm/', 'ncdm_eft_bao', nu=True)"
   ]
  },
  {
   "cell_type": "code",
   "execution_count": 7,
   "metadata": {},
   "outputs": [],
   "source": [
    "M = Class()\n",
    "# cosmo = {'ln10^{10}A_s': 3.044, 'n_s': 0.9649, 'h': 0.6736, 'omega_b': 0.02237, 'omega_cdm': 0.120 }\n",
    "M.set(cosmo)\n",
    "M.set({'output': 'mPk', 'P_k_max_h/Mpc': 1.0,'z_max_pk': zpk})\n",
    "M.compute()\n",
    "kk = np.logspace(-5, 0, 200) # k in h/Mpc\n",
    "Pk = np.array([M.pk(ki*M.h(), zpk)*M.h()**3 for ki in kk]) # P(k) in (Mpc/h)**3"
   ]
  },
  {
   "cell_type": "code",
   "execution_count": 8,
   "metadata": {},
   "outputs": [
    {
     "name": "stdout",
     "output_type": "stream",
     "text": [
      "{'b1': 2.049033, 'b2': 0.2982336693846035, 'b3': -1.17855741, 'b4': 0.2982336693846035, 'cct': 0.41561274, 'cr1': -3.4946073, 'ce0': 0.99198482, 'ce2': -1.61644689, 'ce1': 0.0}\n"
     ]
    }
   ],
   "source": [
    "bs = [b1c2[0], b1c2[1], -1.17855741,  0.41561274, -3.4946073, 0.99198482, -1.61644689]\n",
    "# bs = [2., 0.8, 0.2, 0.8, 0.2, -4., 0]\n",
    "bdict = { \"b1\": bs[0], \"b2\": bs[1]/np.sqrt(2.), \"b3\": bs[2], \"b4\":  bs[1]/np.sqrt(2.), \n",
    " \"cct\": bs[3], \"cr1\": bs[4], 'ce0': bs[5], 'ce2': bs[6], 'ce1': 0. }   \n",
    "print (bdict)"
   ]
  },
  {
   "cell_type": "markdown",
   "metadata": {},
   "source": [
    "boss selection function"
   ]
  },
  {
   "cell_type": "code",
   "execution_count": 9,
   "metadata": {},
   "outputs": [],
   "source": [
    "z, _, _, n = np.loadtxt(os.path.join('/Users/pierre/Documents/github/montepython_public-3.3/data/pybird/density/Density_galaxies_cmass_ngc_v5.txt'), unpack=True)\n",
    "n /= np.trapz(n, x=z)\n",
    "zz = np.linspace(z[0], z[-1], 200)\n",
    "nz = interp1d(z, n, kind='cubic')(zz)\n",
    "zs, _, _, ns = np.loadtxt(os.path.join('/Users/pierre/Documents/github/montepython_public-3.3/data/pybird/density/Density_galaxies_cmass_sgc_v5.txt'), unpack=True)\n",
    "ns /= np.trapz(ns, x=zs)\n",
    "zl, _, _, nl = np.loadtxt(os.path.join('/Users/pierre/Documents/github/montepython_public-3.3/data/pybird/density/Density_galaxies_lowz_ngc_v5.txt'), unpack=True)\n",
    "nl /= np.trapz(nl, x=zl)"
   ]
  },
  {
   "cell_type": "code",
   "execution_count": 10,
   "metadata": {},
   "outputs": [
    {
     "data": {
      "text/plain": [
       "[<matplotlib.lines.Line2D at 0x10f856710>]"
      ]
     },
     "execution_count": 10,
     "metadata": {},
     "output_type": "execute_result"
    },
    {
     "data": {
      "image/png": "[encoded data removed]",
      "text/plain": [
       "<Figure size 432x288 with 1 Axes>"
      ]
     },
     "metadata": {
      "needs_background": "light"
     },
     "output_type": "display_data"
    }
   ],
   "source": [
    "plt.plot(zz, nz)"
   ]
  },
  {
   "cell_type": "markdown",
   "metadata": {},
   "source": [
    "Gaussian"
   ]
  },
  {
   "cell_type": "code",
   "execution_count": 11,
   "metadata": {},
   "outputs": [
    {
     "data": {
      "text/plain": [
       "[<matplotlib.lines.Line2D at 0x1816838a90>]"
      ]
     },
     "execution_count": 11,
     "metadata": {},
     "output_type": "execute_result"
    },
    {
     "data": {
      "image/png": "[encoded data removed]",
      "text/plain": [
       "<Figure size 432x288 with 1 Axes>"
      ]
     },
     "metadata": {
      "needs_background": "light"
     },
     "output_type": "display_data"
    }
   ],
   "source": [
    "zg = zz#np.linspace(zpk-0.3, zpk+0.3, 100)\n",
    "sigmaz = 0.01\n",
    "def Gaussian(z, p=(zpk, sigmaz)):\n",
    "    zc, dz = p\n",
    "    return np.exp(-0.5*(z-zc)**2/dz**2)\n",
    "ng = Gaussian(zg)\n",
    "ng /= np.trapz(ng, x=zg)\n",
    "plt.plot(zg, ng)"
   ]
  },
  {
   "cell_type": "code",
   "execution_count": null,
   "metadata": {},
   "outputs": [],
   "source": [
    "def comoving_distance(z): return M.angular_distance(z)*(1+z)"
   ]
  },
  {
   "cell_type": "markdown",
   "metadata": {},
   "source": [
    "### Correlation function"
   ]
  },
  {
   "cell_type": "code",
   "execution_count": 36,
   "metadata": {},
   "outputs": [],
   "source": [
    "from scipy.special import spherical_jn\n",
    "from cubature import cubature\n",
    "\n",
    "ss = np.array([M.angular_distance(z)*(1+z) for z in zz]) \n",
    "D = np.array([M.scale_independent_growth_factor(z) for z in zz])\n",
    "H = np.array([M.Hubble(z)*(1+z) for z in zz])\n",
    "kernel = ss**2 / H * nz\n",
    "ikernel = interp1d(zz, kernel, kind='cubic')\n",
    "def iker(z): return ikernel(z)\n",
    "\n",
    "z0 = np.arange(0, 1, 0.001)\n",
    "s0 = np.array([M.angular_distance(z)*(1+z) for z in z0]) \n",
    "is0 = interp1d(z0, s0, kind='cubic')\n",
    "def comoving_distance(z): return is0(z)\n",
    "\n",
    "def integrand_norm(zz):\n",
    "    z1 = zz[:, 0]\n",
    "    z2 = zz[:, 1]\n",
    "    return iker(z1) * iker(z2)\n",
    "\n",
    "kernelD = ss**2 / H * nz * D\n",
    "ikernelD = interp1d(zz, kernelD, kind='cubic')\n",
    "def ikerD(z): return ikernelD(z)\n",
    "\n",
    "def integrand_dd(zz):\n",
    "    z1 = zz[:, 0]\n",
    "    z2 = zz[:, 1]\n",
    "    return ikerD(z1) * ikerD(z2)"
   ]
  },
  {
   "cell_type": "code",
   "execution_count": 37,
   "metadata": {},
   "outputs": [],
   "source": [
    "sp = np.arange(1, 500, 5)\n",
    "\n",
    "def get_norm():\n",
    "    val, err = cubature(integrand_norm, 2, 1, np.array([zz[0], zz[0]])+1e-3, np.array([zz[-1], zz[-1]])-1e-3,\n",
    "                        abserr=1e-4, relerr=1e-4, maxEval=0, adaptive='p', vectorized=True)\n",
    "    return val\n",
    "\n",
    "def get_DD():\n",
    "    val, err = cubature(integrand_dd, 2, 1, np.array([zz[0], zz[0]])+1e-3, np.array([zz[-1], zz[-1]])-1e-3,\n",
    "                        abserr=1e-4, relerr=1e-4, maxEval=0, adaptive='p', vectorized=True)\n",
    "    return val"
   ]
  },
  {
   "cell_type": "code",
   "execution_count": 38,
   "metadata": {},
   "outputs": [],
   "source": [
    "norm = get_norm()"
   ]
  },
  {
   "cell_type": "code",
   "execution_count": 39,
   "metadata": {},
   "outputs": [],
   "source": [
    "DD = get_DD()"
   ]
  },
  {
   "cell_type": "code",
   "execution_count": 40,
   "metadata": {},
   "outputs": [
    {
     "name": "stdout",
     "output_type": "stream",
     "text": [
      "[1.00556304]\n"
     ]
    }
   ],
   "source": [
    "DDfid = M.scale_independent_growth_factor(zpk)**2\n",
    "print (DD/norm/DDfid)"
   ]
  },
  {
   "cell_type": "markdown",
   "metadata": {},
   "source": [
    "### Power spectrum"
   ]
  },
  {
   "cell_type": "code",
   "execution_count": 118,
   "metadata": {},
   "outputs": [],
   "source": [
    "def integrand_convol(zz, k, p):\n",
    "    z1 = zz[:, 0]\n",
    "    z2 = zz[:, 1]\n",
    "    s = np.array([np.abs( comoving_distance(za)-comoving_distance(zb) ) for za, zb in zip(z1, z2)])\n",
    "    return 2/np.pi * p**2 * ikerD(z1) * ikerD(z2) * spherical_jn(0, k*s) * spherical_jn(0, p*s)\n",
    "\n",
    "def integrand_norm_ps(zz, k, p):\n",
    "    z1 = zz[:, 0]\n",
    "    z2 = zz[:, 1]\n",
    "    s = np.array([np.abs( comoving_distance(za)-comoving_distance(zb) ) for za, zb in zip(z1, z2)])\n",
    "    return 2/np.pi * p**2 * iker(z1) * iker(z2) * spherical_jn(0, k*s) * spherical_jn(0, p*s)\n"
   ]
  },
  {
   "cell_type": "code",
   "execution_count": 119,
   "metadata": {},
   "outputs": [],
   "source": [
    "kk = np.arange(0.01, 0.3, 0.02)\n",
    "pp = np.geomspace(1e-4, 10, 30) #np.arange(0.01, 0.6, 0.02) # pp = np.array([0.01])\n",
    "#pp = np.concatenate([ np.geomspace(1e-3, 0.02, 10, endpoint=False) , np.arange(0.02, 2, 0.01) ])\n",
    "\n",
    "def get_convol():\n",
    "    res = np.zeros(shape=(len(kk), len(pp)))\n",
    "    for i, k in enumerate(kk):\n",
    "        for j, p in enumerate(pp):\n",
    "            val, err = cubature(integrand_convol, 2, 1, np.array([zz[0], zz[0]])+1e-3, np.array([zz[-1], zz[-1]])-1e-3, args=(k,p), \n",
    "                                abserr=1e-4, relerr=1e-2, maxEval=0, adaptive='p', vectorized=True)\n",
    "            res[i,j] = val\n",
    "    return res\n",
    "\n",
    "def get_norm_ps():\n",
    "    res = np.zeros(shape=(len(kk), len(pp)))\n",
    "    for i, k in enumerate(kk):\n",
    "        for j, p in enumerate(pp):\n",
    "            val, err = cubature(integrand_norm_ps, 2, 1, np.array([zz[0], zz[0]])+1e-3, np.array([zz[-1], zz[-1]])-1e-3, args=(k,p), \n",
    "                                abserr=1e-4, relerr=1e-2, maxEval=0, adaptive='p', vectorized=True)\n",
    "            res[i,j] = val\n",
    "    return res"
   ]
  },
  {
   "cell_type": "code",
   "execution_count": 117,
   "metadata": {},
   "outputs": [],
   "source": [
    "M = Class()\n",
    "cosmo = { 'ln10^{10}A_s': 3.044, 'n_s': 0.9649, 'h': 0.6736, 'omega_b': 0.02237, 'omega_cdm': 0.120 }\n",
    "M.set(cosmo)\n",
    "M.set({'output': 'mPk', 'P_k_max_h/Mpc': 10.0,'z_max_pk': zpk, 'non linear': 'halofit'})\n",
    "M.compute()\n",
    "Pp = np.array([M.pk(ki*M.h(), zpk)*M.h()**3 for ki in pp]) # P(k) in (Mpc/h)**3\n",
    "Pk = np.array([M.pk(ki*M.h(), zpk)*M.h()**3 for ki in kk]) # P(k) in (Mpc/h)**3"
   ]
  },
  {
   "cell_type": "code",
   "execution_count": 101,
   "metadata": {},
   "outputs": [],
   "source": [
    "convol = get_convol()"
   ]
  },
  {
   "cell_type": "code",
   "execution_count": 120,
   "metadata": {},
   "outputs": [],
   "source": [
    "norm_ps = get_norm_ps()"
   ]
  },
  {
   "cell_type": "code",
   "execution_count": 112,
   "metadata": {},
   "outputs": [
    {
     "name": "stdout",
     "output_type": "stream",
     "text": [
      "0 5 10\n"
     ]
    },
    {
     "data": {
      "text/plain": [
       "[<matplotlib.lines.Line2D at 0x181ba45550>]"
      ]
     },
     "execution_count": 112,
     "metadata": {},
     "output_type": "execute_result"
    },
    {
     "data": {
      "image/png": "[encoded data removed]",
      "text/plain": [
       "<Figure size 432x288 with 1 Axes>"
      ]
     },
     "metadata": {
      "needs_background": "light"
     },
     "output_type": "display_data"
    }
   ],
   "source": [
    "id01 = np.where((kk >= 0.01))[0][0]\n",
    "id10 = np.where((kk >= 0.1))[0][0]\n",
    "id20 = np.where((kk >= 0.2))[0][0]\n",
    "print (id01, id10, id20)\n",
    "plt.plot(pp, convol[id01] * Pp)\n",
    "plt.plot(pp, convol[id10] * Pp)\n",
    "plt.plot(pp, convol[id20] * Pp)"
   ]
  },
  {
   "cell_type": "code",
   "execution_count": 127,
   "metadata": {},
   "outputs": [
    {
     "name": "stdout",
     "output_type": "stream",
     "text": [
      "0 5 10\n"
     ]
    },
    {
     "data": {
      "text/plain": [
       "[<matplotlib.lines.Line2D at 0x181b5e3240>]"
      ]
     },
     "execution_count": 127,
     "metadata": {},
     "output_type": "execute_result"
    },
    {
     "data": {
      "image/png": "[encoded data removed]",
      "text/plain": [
       "<Figure size 432x288 with 1 Axes>"
      ]
     },
     "metadata": {
      "needs_background": "light"
     },
     "output_type": "display_data"
    }
   ],
   "source": [
    "id01 = np.where((kk >= 0.01))[0][0]\n",
    "id10 = np.where((kk >= 0.1))[0][0]\n",
    "id20 = np.where((kk >= 0.2))[0][0]\n",
    "print (id01, id10, id20)\n",
    "plt.plot(pp, norm_ps[id01] * Pp)\n",
    "plt.plot(pp, norm_ps[id10] * Pp)\n",
    "plt.plot(pp, norm_ps[id20] * Pp)"
   ]
  },
  {
   "cell_type": "code",
   "execution_count": 108,
   "metadata": {},
   "outputs": [],
   "source": [
    "Pperp = np.trapz(convol * Pp, axis=-1, x=pp)"
   ]
  },
  {
   "cell_type": "code",
   "execution_count": 121,
   "metadata": {},
   "outputs": [],
   "source": [
    "Pnorm = np.trapz(norm_ps, axis=-1, x=pp)"
   ]
  },
  {
   "cell_type": "code",
   "execution_count": 128,
   "metadata": {},
   "outputs": [
    {
     "data": {
      "text/plain": [
       "[<matplotlib.lines.Line2D at 0x181a1500b8>]"
      ]
     },
     "execution_count": 128,
     "metadata": {},
     "output_type": "execute_result"
    },
    {
     "data": {
      "image/png": "[encoded data removed]",
      "text/plain": [
       "<Figure size 432x288 with 1 Axes>"
      ]
     },
     "metadata": {
      "needs_background": "light"
     },
     "output_type": "display_data"
    }
   ],
   "source": [
    "plt.plot(kk, Pperp/Pnorm/DDfid**2)\n",
    "#plt.plot(kk, Pk)\n",
    "#plt.yscale('log')"
   ]
  },
  {
   "cell_type": "code",
   "execution_count": 126,
   "metadata": {},
   "outputs": [
    {
     "data": {
      "text/plain": [
       "[<matplotlib.lines.Line2D at 0x181b189c18>]"
      ]
     },
     "execution_count": 126,
     "metadata": {},
     "output_type": "execute_result"
    },
    {
     "data": {
      "image/png": "[encoded data removed]",
      "text/plain": [
       "<Figure size 432x288 with 1 Axes>"
      ]
     },
     "metadata": {
      "needs_background": "light"
     },
     "output_type": "display_data"
    }
   ],
   "source": [
    "plt.plot(kk, Pperp/norm/DDfid**2 / Pk )\n",
    "plt.plot(kk, 4 / Pk )\n",
    "plt.plot(kk, Pperp/Pnorm/DDfid**2 / Pk )"
   ]
  },
  {
   "cell_type": "code",
   "execution_count": 134,
   "metadata": {},
   "outputs": [
    {
     "data": {
      "text/plain": [
       "307.4386046469526"
      ]
     },
     "execution_count": 134,
     "metadata": {},
     "output_type": "execute_result"
    }
   ],
   "source": [
    "comoving_distance(0.7)-comoving_distance(0.6)"
   ]
  },
  {
   "cell_type": "code",
   "execution_count": 135,
   "metadata": {},
   "outputs": [
    {
     "data": {
      "text/plain": [
       "array(2587.51380113)"
      ]
     },
     "execution_count": 135,
     "metadata": {},
     "output_type": "execute_result"
    }
   ],
   "source": [
    "comoving_distance(0.7)"
   ]
  },
  {
   "cell_type": "code",
   "execution_count": 136,
   "metadata": {},
   "outputs": [
    {
     "data": {
      "text/plain": [
       "array(1712.40110679)"
      ]
     },
     "execution_count": 136,
     "metadata": {},
     "output_type": "execute_result"
    }
   ],
   "source": [
    "comoving_distance(0.7)-comoving_distance(0.43)"
   ]
  },
  {
   "cell_type": "code",
   "execution_count": 137,
   "metadata": {},
   "outputs": [],
   "source": [
    "swindow_config_space = np.loadtxt(\"../../montepython_public-3.3/data/pybird/Window/window_BOSS_CMASS_NGC_z0p57.dat\")\n",
    "sw = swindow_config_space[:,0]\n",
    "Qp = np.moveaxis(swindow_config_space[:,1:].reshape(-1,3), 0, -1 )[:3]"
   ]
  },
  {
   "cell_type": "code",
   "execution_count": 153,
   "metadata": {},
   "outputs": [],
   "source": [
    "sl = np.array([0, comoving_distance(0.7)-comoving_distance(0.43), 10000])\n",
    "wl = np.array([1, 0, 0])"
   ]
  },
  {
   "cell_type": "code",
   "execution_count": 158,
   "metadata": {},
   "outputs": [
    {
     "data": {
      "text/plain": [
       "(1, 1000)"
      ]
     },
     "execution_count": 158,
     "metadata": {},
     "output_type": "execute_result"
    },
    {
     "data": {
      "image/png": "[encoded data removed]",
      "text/plain": [
       "<Figure size 432x288 with 1 Axes>"
      ]
     },
     "metadata": {
      "needs_background": "light"
     },
     "output_type": "display_data"
    }
   ],
   "source": [
    "plt.plot(sw, Qp[0])\n",
    "plt.plot(sl, wl)\n",
    "plt.xlim(1, 1000)\n",
    "#plt.xscale('log')"
   ]
  },
  {
   "cell_type": "code",
   "execution_count": null,
   "metadata": {},
   "outputs": [],
   "source": []
  }
 ],
 "metadata": {
  "kernelspec": {
   "display_name": "Python 3",
   "language": "python",
   "name": "python3"
  },
  "language_info": {
   "codemirror_mode": {
    "name": "ipython",
    "version": 3
   },
   "file_extension": ".py",
   "mimetype": "text/x-python",
   "name": "python",
   "nbconvert_exporter": "python",
   "pygments_lexer": "ipython3",
   "version": "3.7.3"
  }
 },
 "nbformat": 4,
 "nbformat_minor": 2
}
