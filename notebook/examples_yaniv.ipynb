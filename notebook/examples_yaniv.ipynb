{
 "cells": [
  {
   "cell_type": "code",
   "execution_count": 2,
   "metadata": {},
   "outputs": [],
   "source": [
    "# Import relevant modules\n",
    "import matplotlib\n",
    "import matplotlib.pyplot as plt\n",
    "import numpy as np\n",
    "from classy import Class\n",
    "from pybird_dev import pybird"
   ]
  },
  {
   "cell_type": "code",
   "execution_count": 10,
   "metadata": {},
   "outputs": [],
   "source": [
    "zeff = 0.562\n",
    "cosmo = {'omega_b': 0.02237, 'omega_cdm': 0.120, 'h': 0.6736, 'ln10^{10}A_s': 3.044, 'n_s': 0.9649}\n",
    "kd = np.arange(0.005, 0.3, 0.005)\n",
    "bdict = { \"b1\": 2., \"b2\": 0.7, \"b3\": 0.2, \"b4\": 0.7, \"cct\": -2., \"cr1\": 0. }\n",
    "correlator = pybird.Correlator()\n",
    "correlator.set({'output': 'bPk', 'multipole': 2, 'xdata': kd,'z': zeff, 'optiresum': False})\n",
    "correlator.compute(cosmo, module='class')\n",
    "fullpk = correlator.get(bdict)"
   ]
  },
  {
   "cell_type": "code",
   "execution_count": 22,
   "metadata": {},
   "outputs": [],
   "source": [
    "# these are the corresponding EFT parameters of the following terms\n",
    "# self.b11 = np.array([b1**2, 2. * b1 * f, f**2])\n",
    "# self.bloop = np.array([1., b1, b2, b3, b4, b1 * b1, b1 * b2, b1 * b3, b1 * b4, b2 * b2, b2 * b4, b4 * b4])"
   ]
  },
  {
   "cell_type": "code",
   "execution_count": 24,
   "metadata": {},
   "outputs": [
    {
     "name": "stdout",
     "output_type": "stream",
     "text": [
      "(2, 3, 59)\n"
     ]
    }
   ],
   "source": [
    "# these are the linear terms\n",
    "print ( correlator.bird.P11l.shape ) # shape is: (multipoles, loop/linear terms, ks)"
   ]
  },
  {
   "cell_type": "code",
   "execution_count": 25,
   "metadata": {},
   "outputs": [
    {
     "name": "stdout",
     "output_type": "stream",
     "text": [
      "(2, 12, 59)\n"
     ]
    }
   ],
   "source": [
    "# these are the loop terms\n",
    "print ( correlator.bird.Ploopl.shape ) # shape is: (multipoles, loop/linear terms, ks)"
   ]
  },
  {
   "cell_type": "code",
   "execution_count": 30,
   "metadata": {},
   "outputs": [
    {
     "data": {
      "text/plain": [
       "[<matplotlib.lines.Line2D at 0x182e305ac8>]"
      ]
     },
     "execution_count": 30,
     "metadata": {},
     "output_type": "execute_result"
    },
    {
     "data": {
      "image/png": "[encoded data removed]",
      "text/plain": [
       "<Figure size 432x288 with 1 Axes>"
      ]
     },
     "metadata": {
      "needs_background": "light"
     },
     "output_type": "display_data"
    }
   ],
   "source": [
    "plt.plot(kd, kd * correlator.bird.P11l[0,0])\n",
    "plt.plot(kd, - kd * correlator.bird.Ploopl[0,5])"
   ]
  },
  {
   "cell_type": "code",
   "execution_count": null,
   "metadata": {},
   "outputs": [],
   "source": []
  }
 ],
 "metadata": {
  "kernelspec": {
   "display_name": "Python 3",
   "language": "python",
   "name": "python3"
  },
  "language_info": {
   "codemirror_mode": {
    "name": "ipython",
    "version": 3
   },
   "file_extension": ".py",
   "mimetype": "text/x-python",
   "name": "python",
   "nbconvert_exporter": "python",
   "pygments_lexer": "ipython3",
   "version": "3.7.3"
  }
 },
 "nbformat": 4,
 "nbformat_minor": 2
}
